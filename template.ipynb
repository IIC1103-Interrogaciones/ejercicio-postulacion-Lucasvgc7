{
 "cells": [
  {
   "cell_type": "markdown",
   "metadata": {},
   "source": [
    "# Ejercicio de Postulación - Área de Interrogaciones"
   ]
  },
  {
   "cell_type": "markdown",
   "metadata": {},
   "source": [
    "Nombre: Lucas Andres von Gehr Campos\n",
    "\n",
    "Email: lucas.vongehr@estudiante.uc.cl\n",
    "\n",
    "Telegram: @Lucasvgc"
   ]
  },
  {
   "cell_type": "markdown",
   "metadata": {},
   "source": [
    "## Código solución (NO MODIFICAR)"
   ]
  },
  {
   "cell_type": "code",
   "execution_count": 2,
   "metadata": {},
   "outputs": [],
   "source": [
    "#code.py\n",
    "def obtener_proximos(partidos, equipo):\n",
    "    equipos = []\n",
    "    ex_rivales = []\n",
    "    for partido in partidos:\n",
    "        if partido[0] not in equipos:\n",
    "            equipos.append(partido[0])\n",
    "        if partido[1] not in equipos:\n",
    "            equipos.append(partido[1])\n",
    "        if equipo == partido[0]:\n",
    "            ex_rivales.append(partido[1])\n",
    "        if equipo == partido[1]:\n",
    "            ex_rivales.append(partido[0])\n",
    "    pendientes = []\n",
    "    for rival in equipos:\n",
    "        if rival not in ex_rivales:\n",
    "            pendientes.append(rival)\n",
    "    return pendientes\n"
   ]
  },
  {
   "cell_type": "markdown",
   "metadata": {},
   "source": [
    "## Runner Personalizado (Opcional Modificar) "
   ]
  },
  {
   "cell_type": "markdown",
   "metadata": {},
   "source": [
    "Se tendra en consideración si logran hacer que los outputs sean iguales (solo modificando el runner) independiente del orden en que retornen los elementos en la lista."
   ]
  },
  {
   "cell_type": "code",
   "execution_count": 3,
   "metadata": {},
   "outputs": [],
   "source": [
    "from functools import partial\n",
    "\n",
    "def obtener_proximos_modificada(func_original, partidos, equipo):\n",
    "    resultado = func_original(partidos, equipo)\n",
    "    # Cambiar Comportamiento de la función original (opcional)\n",
    "    return resultado\n",
    "\n",
    "# Con esto reescribimos la función original para capturar el capturar resultado del alumno y modificarlo si es necesario\n",
    "obtener_proximos = partial(obtener_proximos_modificada, obtener_proximos)\n"
   ]
  },
  {
   "cell_type": "markdown",
   "metadata": {},
   "source": [
    "## Enunciado"
   ]
  },
  {
   "cell_type": "markdown",
   "metadata": {},
   "source": [
    "Estamos entremedio del importantisimo DCCampeonato de futbol. En donde todos los equipos participantes se enfrentan al otro solo 1 vez. Los fanaticos van a querer saber los partidos restantes que le quedan a su equipo favorito. Como el fanatico computacional que eres, decides ayudar a los tuyos.\n",
    "\n",
    "# Objetivo\n",
    "\n",
    "Debes determinar los partidos del DCCampeonato de futbol que faltan para que un equipo se haya enfretado a todos sus rivales. Para ello, debes crear la funcion ``obtener_proximos(partidos, equipo)``, la cual recibe una lista de listas ``partidos``, donde cada de esas lista es un partido que se disputo y contiene dos *strings*, que serian los dos equipos que se enfrentaron. Tambien recibe un *string* ``equipo``, el cual es el nombre del equipo del que queremos saber los partidos que le faltan. La funcion debe retornar una lista con todos los equipos con los que aun faltan por jugar, eso incluye el mismo equipo.\n",
    "\n",
    "Ten en cuenta que todos los equipos que participan en DCCampeonato de futbol estan en la lista de listas ``partidos``, es decir, todos los equipos participaron en al menos un partido.\n",
    "\n",
    "\n",
    "# Ejemplo 1"
   ]
  },
  {
   "cell_type": "markdown",
   "metadata": {},
   "source": [
    "#### Input"
   ]
  },
  {
   "cell_type": "code",
   "execution_count": null,
   "metadata": {},
   "outputs": [],
   "source": [
    "partidos = [\n",
    "    [\"Computing City\", \"Paris Saint-Graphics\"],\n",
    "    [\"Boca Explorer\", \"Paris Saint-Graphics\"]\n",
    "]\n",
    "\n",
    "equipo = \"Computing City\"\n",
    "\n",
    "proximos_partidos = obtener_proximos(partidos, equipo)\n",
    "print(proximos_partidos)"
   ]
  },
  {
   "cell_type": "markdown",
   "metadata": {},
   "source": [
    "#### Output\n",
    "\n"
   ]
  },
  {
   "cell_type": "code",
   "execution_count": null,
   "metadata": {},
   "outputs": [],
   "source": [
    "[\"Computing City\", \"Boca Explorer\"]"
   ]
  },
  {
   "cell_type": "markdown",
   "metadata": {},
   "source": [
    "**Explicacion:** Entre los tres equipos vistos en ``partidos``, vemos que *\"Computing City\"* (El equipo que nos interesa ver) aun no se enfrenta a *\"Boca Explorer\"*. Por lo tanto la funcion retorna ese equipo. Tambien siempre retornara el mismo equipo, ya que un mismo equipo no se puede enfrentar entre si."
   ]
  },
  {
   "cell_type": "markdown",
   "metadata": {},
   "source": [
    "# Ejemplo 2"
   ]
  },
  {
   "cell_type": "markdown",
   "metadata": {},
   "source": [
    "#### Input"
   ]
  },
  {
   "cell_type": "code",
   "execution_count": null,
   "metadata": {},
   "outputs": [],
   "source": [
    "partidos = [\n",
    "    [\"Computing City\", \"Paris Saint-Graphics\"],\n",
    "    [\"Boca Explorer\", \"Paris Saint-Graphics\"],\n",
    "    [\"Code-Code\", \"BotaDisc\"],\n",
    "    [\"Gabinetes de Madrid\", \"Code-Code\"],\n",
    "    [\"Computing City\", \"Boca Explorer\"],\n",
    "    [\"BotaDisc\", \"Gabinetes de Madrid\"]\n",
    "]\n",
    "\n",
    "equipo = \"Code-Code\"\n",
    "\n",
    "proximos_partidos = obtener_proximos(partidos, equipo)\n",
    "print(proximos_partidos)"
   ]
  },
  {
   "cell_type": "markdown",
   "metadata": {},
   "source": [
    "#### Output"
   ]
  },
  {
   "cell_type": "code",
   "execution_count": null,
   "metadata": {},
   "outputs": [],
   "source": [
    "['Computing City', 'Paris Saint-Graphics', 'Boca Explorer', 'Code-Code']"
   ]
  },
  {
   "cell_type": "markdown",
   "metadata": {},
   "source": [
    "**Explicacion:** En este caso, tenemos 6 equipos distintos en ``partidos``, mirando nuestro equipo *\"Code-Code\"*, este se enfrento a *\"BocaDisc\"* y a *\"Gabinetes de Madrid\"*. Dejandonos con 3 equipos a los que aun no se enfrenta. Los cuales son *\"Computing City\"*, *\"Paris Saint-Graphics\"*, y *\"Boca Explorer\"*. Tambien considerando que un equipo no se puede enfrentar a si mismo tambien cuenta para la lista. Por lo tanto, la funcion retorna una lista con los 4 equipos mencionados."
   ]
  },
  {
   "cell_type": "markdown",
   "metadata": {},
   "source": [
    "## Testcases"
   ]
  },
  {
   "cell_type": "markdown",
   "metadata": {},
   "source": [
    "### Testcase 1"
   ]
  },
  {
   "cell_type": "markdown",
   "metadata": {},
   "source": [
    "#### Input"
   ]
  },
  {
   "cell_type": "code",
   "execution_count": null,
   "metadata": {},
   "outputs": [],
   "source": [
    "partidos = [\n",
    "    [\"Code-Code\", \"BotaDisc\"],\n",
    "    [\"Gabinetes de Madrid\", \"Code-Code\"],\n",
    "    [\"Real RAM\", \"Boca Explorer\"],\n",
    "    [\"BotaDisc\", \"Real RAM\"],\n",
    "    [\"Inter de Poder\", \"Code-Code\"],\n",
    "    [\"Mother Plate\", \"Boca Explorer\"],\n",
    "    [\"Code-Code\", \"Inter de Poder\"]\n",
    "]\n",
    "\n",
    "equipo = \"BotaDisc\"\n",
    "\n",
    "proximos_partidos = obtener_proximos(partidos, equipo)\n",
    "print(proximos_partidos)"
   ]
  },
  {
   "cell_type": "markdown",
   "metadata": {},
   "source": [
    "#### Output"
   ]
  },
  {
   "cell_type": "code",
   "execution_count": null,
   "metadata": {},
   "outputs": [],
   "source": [
    "['BotaDisc', 'Gabinetes de Madrid', 'Boca Explorer', 'Inter de Poder', 'Mother Plate']"
   ]
  },
  {
   "cell_type": "markdown",
   "metadata": {},
   "source": [
    "### Testcase 2"
   ]
  },
  {
   "cell_type": "markdown",
   "metadata": {},
   "source": [
    "#### Input"
   ]
  },
  {
   "cell_type": "code",
   "execution_count": null,
   "metadata": {},
   "outputs": [],
   "source": [
    "partidos = [\n",
    "    [\"Los Computines\", \"Code-Code\"],\n",
    "    [\"Inter de Poder\", \"BotaDisc\"],\n",
    "    [\"BotaDisc\", \"Paris Saint-Graphics\"],\n",
    "    [\"Paris Saint-Graphics\", \"Inter de Poder\"],\n",
    "    [\"Real RAM\", \"Inter de Poder\"],\n",
    "    [\"Inter de Poder\", \"Los Computines\"],\n",
    "    [\"Paris Saint-Graphics\", \"Code-Code\"],\n",
    "    [\"Los Computines\", \"Real RAM\"],\n",
    "    [\"Inter de Poder\", \"Code-Code\"]\n",
    "\n",
    "]\n",
    "\n",
    "equipo = \"Inter de Poder\"\n",
    "\n",
    "proximos_partidos = obtener_proximos(partidos, equipo)\n",
    "print(proximos_partidos)"
   ]
  },
  {
   "cell_type": "markdown",
   "metadata": {},
   "source": [
    "#### Output"
   ]
  },
  {
   "cell_type": "code",
   "execution_count": null,
   "metadata": {},
   "outputs": [],
   "source": [
    "['Inter de Poder']"
   ]
  },
  {
   "cell_type": "markdown",
   "metadata": {},
   "source": [
    "### Testcase 3"
   ]
  },
  {
   "cell_type": "markdown",
   "metadata": {},
   "source": [
    "#### Input"
   ]
  },
  {
   "cell_type": "code",
   "execution_count": null,
   "metadata": {},
   "outputs": [],
   "source": [
    "partidos = [\n",
    "    [\"Boca Explorer\", \"Paris Saint-Graphics\"],\n",
    "    [\"Computing City\", \"Gabinetes de Madrid\"],\n",
    "    [\"Mother Plate\", \"Real RAM\"],\n",
    "    [\"Inter de Poder\", \"BotaDisc\"],\n",
    "    [\"Los Computines\", \"Code-Code\"],\n",
    "    [\"Mother Plate\", \"Boca Explorer\"],\n",
    "    [\"Computing City\", \"Los Computines\"],\n",
    "    [\"Gabinetes de Madrid\", \"Computing City\"],\n",
    "    [\"Code-Code\", \"Boca Explorer\"],\n",
    "    [\"Paris Saint-Graphics\", \"Gabinetes de Madrid\"],\n",
    "    [\"Real RAM\", \"Computing City\"],\n",
    "    [\"BotaDisc\", \"Code-Code\"]\n",
    "]\n",
    "\n",
    "equipo = \"Boca Explorer\"\n",
    "\n",
    "proximos_partidos = obtener_proximos(partidos, equipo)\n",
    "print(proximos_partidos)"
   ]
  },
  {
   "cell_type": "markdown",
   "metadata": {},
   "source": [
    "#### Output"
   ]
  },
  {
   "cell_type": "code",
   "execution_count": null,
   "metadata": {},
   "outputs": [],
   "source": [
    "['Boca Explorer', 'Computing City', 'Gabinetes de Madrid', 'Real RAM', 'Inter de Poder', 'BotaDisc', 'Los Computines'] "
   ]
  }
 ],
 "metadata": {
  "kernelspec": {
   "display_name": "Python 3",
   "language": "python",
   "name": "python3"
  },
  "language_info": {
   "codemirror_mode": {
    "name": "ipython",
    "version": 3
   },
   "file_extension": ".py",
   "mimetype": "text/x-python",
   "name": "python",
   "nbconvert_exporter": "python",
   "pygments_lexer": "ipython3",
   "version": "3.11.7"
  }
 },
 "nbformat": 4,
 "nbformat_minor": 4
}
